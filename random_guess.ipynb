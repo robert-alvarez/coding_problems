{
 "cells": [
  {
   "cell_type": "code",
   "execution_count": 116,
   "metadata": {},
   "outputs": [
    {
     "name": "stdout",
     "output_type": "stream",
     "text": [
      "56\n",
      "28\n",
      "43\n",
      "48\n",
      "44\n",
      "47\n",
      "guess is 45, correct value is 45, tries: 7\n"
     ]
    }
   ],
   "source": [
    "import numpy as np\n",
    "def guess(n, a=1, b=101,i=0):\n",
    "    i+=1\n",
    "    rand_guess = np.random.randint(a, b)\n",
    "    if rand_guess == n:\n",
    "        return print('guess is %d, correct value is %d, tries: %d' %(rand_guess, n, i))\n",
    "    elif rand_guess < n:\n",
    "        print(rand_guess)\n",
    "        return guess(n, rand_guess+1, b, i)\n",
    "    else:\n",
    "        print(rand_guess)\n",
    "        return guess(n, a, rand_guess, i)\n",
    "guess(45)"
   ]
  }
 ],
 "metadata": {
  "kernelspec": {
   "display_name": "Python 3",
   "language": "python",
   "name": "python3"
  },
  "language_info": {
   "codemirror_mode": {
    "name": "ipython",
    "version": 3
   },
   "file_extension": ".py",
   "mimetype": "text/x-python",
   "name": "python",
   "nbconvert_exporter": "python",
   "pygments_lexer": "ipython3",
   "version": "3.6.4"
  }
 },
 "nbformat": 4,
 "nbformat_minor": 2
}
